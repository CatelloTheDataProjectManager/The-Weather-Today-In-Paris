{
 "cells": [
  {
   "cell_type": "markdown",
   "id": "839b52a2",
   "metadata": {},
   "source": [
    "## 🌬️ The Weather Today In Paris 🌡️"
   ]
  },
  {
   "cell_type": "markdown",
   "id": "b7ea948e",
   "metadata": {},
   "source": [
    "### Libraries"
   ]
  },
  {
   "cell_type": "code",
   "execution_count": 92,
   "id": "2a6bebc4",
   "metadata": {},
   "outputs": [],
   "source": [
    "import requests\n",
    "import json\n",
    "from pymongo import MongoClient\n",
    "from datetime import datetime\n",
    "import pandas as pd\n",
    "import numpy as np\n",
    "from pandas import json_normalize\n",
    "from ast import literal_eval\n",
    "import matplotlib.pyplot as plt\n",
    "import seaborn as sns"
   ]
  },
  {
   "cell_type": "markdown",
   "id": "2902c5d8",
   "metadata": {},
   "source": [
    "### Openweather Connexion"
   ]
  },
  {
   "cell_type": "code",
   "execution_count": 5,
   "id": "44256e47",
   "metadata": {},
   "outputs": [
    {
     "name": "stdout",
     "output_type": "stream",
     "text": [
      "Clé récupérée\n"
     ]
    }
   ],
   "source": [
    "json_file_path = r'C:\\Users\\Catello\\Desktop\\IAMDA1\\NoSQL - Mr Chafik\\PyMango_Project\\config.json'\n",
    "\n",
    "with open(json_file_path, 'r') as json_file:\n",
    "    data = json.load(json_file)\n",
    "\n",
    "api_key = data.get('api_key', None)\n",
    "\n",
    "if api_key:\n",
    "    print(f\"Clé récupérée\")\n",
    "else:\n",
    "    print(\"La clé n'a pas été trouvée dans le fichier JSON.\")"
   ]
  },
  {
   "cell_type": "markdown",
   "id": "a7025933",
   "metadata": {},
   "source": [
    "### MongoDB Compass Connexion"
   ]
  },
  {
   "cell_type": "code",
   "execution_count": 6,
   "id": "0a7114e9",
   "metadata": {},
   "outputs": [],
   "source": [
    "client = MongoClient('mongodb://localhost:27017/')\n",
    "filter={}\n",
    "\n",
    "result = client['Pymango_project']['openweather'].find(\n",
    "  filter=filter\n",
    ")"
   ]
  },
  {
   "cell_type": "markdown",
   "id": "c50a7d10",
   "metadata": {},
   "source": [
    "#### Get the information of the city"
   ]
  },
  {
   "cell_type": "code",
   "execution_count": 7,
   "id": "c75dbd87",
   "metadata": {},
   "outputs": [
    {
     "name": "stdout",
     "output_type": "stream",
     "text": [
      "https://api.openweathermap.org/data/2.5/weather?q=paris&appid=03b4ca62593f93e7459b1b93fa684c7a\n",
      "{'coord': {'lon': 2.3488, 'lat': 48.8534}, 'weather': [{'id': 800, 'main': 'Clear', 'description': 'clear sky', 'icon': '01d'}], 'base': 'stations', 'main': {'temp': 282.45, 'feels_like': 280.24, 'temp_min': 281.17, 'temp_max': 283.63, 'pressure': 1004, 'humidity': 70}, 'visibility': 9000, 'wind': {'speed': 4.12, 'deg': 110}, 'clouds': {'all': 0}, 'dt': 1709894110, 'sys': {'type': 2, 'id': 2041230, 'country': 'FR', 'sunrise': 1709878682, 'sunset': 1709919890}, 'timezone': 3600, 'id': 2988507, 'name': 'Paris', 'cod': 200}\n"
     ]
    }
   ],
   "source": [
    "city_name = \"paris\"\n",
    "\n",
    "url = f'https://api.openweathermap.org/data/2.5/weather?q={city_name}&appid={api_key}'\n",
    "print(url)\n",
    "\n",
    "req = requests.get(url)\n",
    "data = req.json()\n",
    "\n",
    "print(data)"
   ]
  },
  {
   "cell_type": "code",
   "execution_count": 8,
   "id": "897491c8",
   "metadata": {},
   "outputs": [
    {
     "data": {
      "text/plain": [
       "dict"
      ]
     },
     "execution_count": 8,
     "metadata": {},
     "output_type": "execute_result"
    }
   ],
   "source": [
    "type(data)"
   ]
  },
  {
   "cell_type": "markdown",
   "id": "ba96c8c5",
   "metadata": {},
   "source": [
    "#### MongoDB Document storage"
   ]
  },
  {
   "cell_type": "code",
   "execution_count": 75,
   "id": "e7858a64",
   "metadata": {},
   "outputs": [],
   "source": [
    "data['record_date'] = datetime.now()"
   ]
  },
  {
   "cell_type": "code",
   "execution_count": 9,
   "id": "bfdd24b2",
   "metadata": {},
   "outputs": [
    {
     "data": {
      "text/plain": [
       "InsertOneResult(ObjectId('65eaeb6b033749139fabba09'), acknowledged=True)"
      ]
     },
     "execution_count": 9,
     "metadata": {},
     "output_type": "execute_result"
    }
   ],
   "source": [
    "client['Pymango_project']['openweather'].insert_one(data)"
   ]
  },
  {
   "cell_type": "markdown",
   "id": "d37ce8ea",
   "metadata": {},
   "source": [
    "### Data Cleaning"
   ]
  },
  {
   "cell_type": "markdown",
   "id": "767d3ac5",
   "metadata": {},
   "source": [
    "#### Normalization"
   ]
  },
  {
   "cell_type": "code",
   "execution_count": 48,
   "id": "4fb3abf2",
   "metadata": {},
   "outputs": [
    {
     "data": {
      "text/html": [
       "<div>\n",
       "<style scoped>\n",
       "    .dataframe tbody tr th:only-of-type {\n",
       "        vertical-align: middle;\n",
       "    }\n",
       "\n",
       "    .dataframe tbody tr th {\n",
       "        vertical-align: top;\n",
       "    }\n",
       "\n",
       "    .dataframe thead th {\n",
       "        text-align: right;\n",
       "    }\n",
       "</style>\n",
       "<table border=\"1\" class=\"dataframe\">\n",
       "  <thead>\n",
       "    <tr style=\"text-align: right;\">\n",
       "      <th></th>\n",
       "      <th>weather</th>\n",
       "      <th>base</th>\n",
       "      <th>visibility</th>\n",
       "      <th>dt</th>\n",
       "      <th>timezone</th>\n",
       "      <th>id</th>\n",
       "      <th>name</th>\n",
       "      <th>cod</th>\n",
       "      <th>record_date</th>\n",
       "      <th>_id</th>\n",
       "      <th>...</th>\n",
       "      <th>main.pressure</th>\n",
       "      <th>main.humidity</th>\n",
       "      <th>wind.speed</th>\n",
       "      <th>wind.deg</th>\n",
       "      <th>clouds.all</th>\n",
       "      <th>sys.type</th>\n",
       "      <th>sys.id</th>\n",
       "      <th>sys.country</th>\n",
       "      <th>sys.sunrise</th>\n",
       "      <th>sys.sunset</th>\n",
       "    </tr>\n",
       "  </thead>\n",
       "  <tbody>\n",
       "    <tr>\n",
       "      <th>0</th>\n",
       "      <td>[{'id': 800, 'main': 'Clear', 'description': '...</td>\n",
       "      <td>stations</td>\n",
       "      <td>9000</td>\n",
       "      <td>1709894110</td>\n",
       "      <td>3600</td>\n",
       "      <td>2988507</td>\n",
       "      <td>Paris</td>\n",
       "      <td>200</td>\n",
       "      <td>2024-03-08 11:41:47.323944</td>\n",
       "      <td>65eaeb6b033749139fabba09</td>\n",
       "      <td>...</td>\n",
       "      <td>1004</td>\n",
       "      <td>70</td>\n",
       "      <td>4.12</td>\n",
       "      <td>110</td>\n",
       "      <td>0</td>\n",
       "      <td>2</td>\n",
       "      <td>2041230</td>\n",
       "      <td>FR</td>\n",
       "      <td>1709878682</td>\n",
       "      <td>1709919890</td>\n",
       "    </tr>\n",
       "  </tbody>\n",
       "</table>\n",
       "<p>1 rows × 26 columns</p>\n",
       "</div>"
      ],
      "text/plain": [
       "                                             weather      base  visibility  \\\n",
       "0  [{'id': 800, 'main': 'Clear', 'description': '...  stations        9000   \n",
       "\n",
       "           dt  timezone       id   name  cod                record_date  \\\n",
       "0  1709894110      3600  2988507  Paris  200 2024-03-08 11:41:47.323944   \n",
       "\n",
       "                        _id  ...  main.pressure  main.humidity  wind.speed  \\\n",
       "0  65eaeb6b033749139fabba09  ...           1004             70        4.12   \n",
       "\n",
       "   wind.deg  clouds.all  sys.type   sys.id  sys.country  sys.sunrise  \\\n",
       "0       110           0         2  2041230           FR   1709878682   \n",
       "\n",
       "   sys.sunset  \n",
       "0  1709919890  \n",
       "\n",
       "[1 rows x 26 columns]"
      ]
     },
     "execution_count": 48,
     "metadata": {},
     "output_type": "execute_result"
    }
   ],
   "source": [
    "df = json_normalize(data)\n",
    "\n",
    "df"
   ]
  },
  {
   "cell_type": "code",
   "execution_count": 49,
   "id": "40dd8e35",
   "metadata": {},
   "outputs": [
    {
     "data": {
      "text/plain": [
       "[{'id': 800, 'main': 'Clear', 'description': 'clear sky', 'icon': '01d'}]"
      ]
     },
     "execution_count": 49,
     "metadata": {},
     "output_type": "execute_result"
    }
   ],
   "source": [
    "df[\"weather\"].iloc[0]"
   ]
  },
  {
   "cell_type": "code",
   "execution_count": 50,
   "id": "43da94a4",
   "metadata": {},
   "outputs": [
    {
     "data": {
      "text/plain": [
       "base                                     stations\n",
       "visibility                                   9000\n",
       "dt                                     1709894110\n",
       "timezone                                     3600\n",
       "id                                        2988507\n",
       "name                                        Paris\n",
       "cod                                           200\n",
       "record_date            2024-03-08 11:41:47.323944\n",
       "_id                      65eaeb6b033749139fabba09\n",
       "coord.lon                                  2.3488\n",
       "coord.lat                                 48.8534\n",
       "main.temp                                  282.45\n",
       "main.feels_like                            280.24\n",
       "main.temp_min                              281.17\n",
       "main.temp_max                              283.63\n",
       "main.pressure                                1004\n",
       "main.humidity                                  70\n",
       "wind.speed                                   4.12\n",
       "wind.deg                                      110\n",
       "clouds.all                                      0\n",
       "sys.type                                        2\n",
       "sys.id                                    2041230\n",
       "sys.country                                    FR\n",
       "sys.sunrise                            1709878682\n",
       "sys.sunset                             1709919890\n",
       "weather_id                                    800\n",
       "weather_main                                Clear\n",
       "weather_description                     clear sky\n",
       "weather_icon                                  01d\n",
       "Name: 0, dtype: object"
      ]
     },
     "execution_count": 50,
     "metadata": {},
     "output_type": "execute_result"
    }
   ],
   "source": [
    "df[\"weather_id\"] = df[\"weather\"].apply(lambda x: x[0][\"id\"])\n",
    "df[\"weather_main\"] = df[\"weather\"].apply(lambda x: x[0][\"main\"])\n",
    "df[\"weather_description\"] = df[\"weather\"].apply(lambda x: x[0][\"description\"])\n",
    "df[\"weather_icon\"] = df[\"weather\"].apply(lambda x: x[0][\"icon\"])\n",
    "df.drop(\"weather\", axis=1, inplace=True)\n",
    "\n",
    "df.iloc[0]"
   ]
  },
  {
   "cell_type": "markdown",
   "id": "d00e2dd1",
   "metadata": {},
   "source": [
    "#### Datetype conversion"
   ]
  },
  {
   "cell_type": "code",
   "execution_count": 101,
   "id": "669a124f",
   "metadata": {},
   "outputs": [],
   "source": [
    "numpy_datetime = df['record_date'].values[0]\n",
    "standard_datetime = np.datetime_as_string(numpy_datetime, unit='D')\n",
    "\n",
    "formatted_date = datetime.strptime(standard_datetime, \"%Y-%m-%d\").strftime('%d/%m/%Y')"
   ]
  },
  {
   "cell_type": "code",
   "execution_count": 96,
   "id": "dcb99e2d",
   "metadata": {},
   "outputs": [
    {
     "name": "stdout",
     "output_type": "stream",
     "text": [
      "Today 08/03/2024 in Paris the weather is Clear and visibility is up to 9 Km \n"
     ]
    }
   ],
   "source": [
    "print(f\"Today {formatted_date} in {df['name'].values[0]} the weather is {df['weather_main'].values[0]} and visibility is up to {round(df['visibility'].values[0]/1000)} Km \")\n"
   ]
  },
  {
   "cell_type": "markdown",
   "id": "bd5b5af9",
   "metadata": {},
   "source": [
    "#### Temperature conversion"
   ]
  },
  {
   "cell_type": "code",
   "execution_count": 51,
   "id": "5d0a1793",
   "metadata": {},
   "outputs": [
    {
     "data": {
      "text/plain": [
       "base                                     stations\n",
       "visibility                                   9000\n",
       "dt                                     1709894110\n",
       "timezone                                     3600\n",
       "id                                        2988507\n",
       "name                                        Paris\n",
       "cod                                           200\n",
       "record_date            2024-03-08 11:41:47.323944\n",
       "_id                      65eaeb6b033749139fabba09\n",
       "coord.lon                                  2.3488\n",
       "coord.lat                                 48.8534\n",
       "main.temp                                     9.3\n",
       "main.feels_like                              7.09\n",
       "main.temp_min                                8.02\n",
       "main.temp_max                               10.48\n",
       "main.pressure                                1004\n",
       "main.humidity                                  70\n",
       "wind.speed                                   4.12\n",
       "wind.deg                                      110\n",
       "clouds.all                                      0\n",
       "sys.type                                        2\n",
       "sys.id                                    2041230\n",
       "sys.country                                    FR\n",
       "sys.sunrise                            1709878682\n",
       "sys.sunset                             1709919890\n",
       "weather_id                                    800\n",
       "weather_main                                Clear\n",
       "weather_description                     clear sky\n",
       "weather_icon                                  01d\n",
       "Name: 0, dtype: object"
      ]
     },
     "execution_count": 51,
     "metadata": {},
     "output_type": "execute_result"
    }
   ],
   "source": [
    "temperature_kelvin = df.iloc[0]['main.temp']\n",
    "feels_like_kelvin = df.iloc[0]['main.feels_like']\n",
    "temp_min_kelvin = df.iloc[0]['main.temp_min']\n",
    "temp_max_kelvin = df.iloc[0]['main.temp_max']\n",
    "\n",
    "temperature_celsius = temperature_kelvin - 273.15\n",
    "feels_like_celsius = feels_like_kelvin - 273.15\n",
    "temp_min_celsius = temp_min_kelvin - 273.15\n",
    "temp_max_celsius = temp_max_kelvin - 273.15\n",
    "\n",
    "df.at[0, 'main.temp'] = temperature_celsius\n",
    "df.at[0, 'main.feels_like'] = feels_like_celsius\n",
    "df.at[0, 'main.temp_min'] = temp_min_celsius\n",
    "df.at[0, 'main.temp_max'] = temp_max_celsius\n",
    "\n",
    "df.iloc[0]"
   ]
  },
  {
   "cell_type": "code",
   "execution_count": 107,
   "id": "2b235762",
   "metadata": {},
   "outputs": [
    {
     "name": "stdout",
     "output_type": "stream",
     "text": [
      "Today 08/03/2024 in Paris the weather is Clear and visibility is up to 9 Km \n"
     ]
    },
    {
     "data": {
      "image/png": "[encoded data removed]",
      "text/plain": [
       "<Figure size 640x480 with 1 Axes>"
      ]
     },
     "metadata": {},
     "output_type": "display_data"
    }
   ],
   "source": [
    "import matplotlib.pyplot as plt\n",
    "import seaborn as sns\n",
    "\n",
    "temperature = df.at[0, 'main.temp']\n",
    "feels_like = df.at[0, 'main.feels_like']\n",
    "temp_min = df.at[0, 'main.temp_min']\n",
    "temp_max = df.at[0, 'main.temp_max']\n",
    "\n",
    "labels = ['Temperature', 'Feels Like', 'Min Temperature', 'Max Temperature']\n",
    "values = [temperature, feels_like, temp_min, temp_max]\n",
    "\n",
    "sorted_values, sorted_labels = zip(*sorted(zip(values, labels)))\n",
    "\n",
    "colors = ['blue', 'orange', 'green', 'red']\n",
    "\n",
    "sns.set(style=\"whitegrid\")\n",
    "fig, ax = plt.subplots()\n",
    "\n",
    "sns.barplot(x=['All Temperatures']*len(sorted_values), y=sorted_values, hue=sorted_labels, palette=colors, ax=ax)\n",
    "\n",
    "ax.set_ylabel('Temperature (Celsius)')\n",
    "ax.set_title('Weather Temperatures')\n",
    "\n",
    "legend = ax.legend(loc='upper left', bbox_to_anchor=(1, 1))\n",
    "\n",
    "for i, (value, label) in enumerate(zip(sorted_values, sorted_labels)):\n",
    "    legend.texts[i].set_text(f'{label}: {value:.2f}°C')\n",
    "\n",
    "title = f\"Today {formatted_date} in {df['name'].values[0]} the weather is {df['weather_main'].values[0]} and visibility is up to {round(df['visibility'].values[0]/1000)} Km \"\n",
    "\n",
    "print(title)\n",
    "\n",
    "plt.show()\n"
   ]
  }
 ],
 "metadata": {
  "kernelspec": {
   "display_name": "Python 3 (ipykernel)",
   "language": "python",
   "name": "python3"
  },
  "language_info": {
   "codemirror_mode": {
    "name": "ipython",
    "version": 3
   },
   "file_extension": ".py",
   "mimetype": "text/x-python",
   "name": "python",
   "nbconvert_exporter": "python",
   "pygments_lexer": "ipython3",
   "version": "3.9.13"
  }
 },
 "nbformat": 4,
 "nbformat_minor": 5
}
